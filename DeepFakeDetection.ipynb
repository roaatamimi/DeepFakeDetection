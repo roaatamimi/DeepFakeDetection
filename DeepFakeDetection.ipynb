{
  "cells": [
    {
      "cell_type": "markdown",
      "metadata": {
        "id": "view-in-github",
        "colab_type": "text"
      },
      "source": [
        "<a href=\"https://colab.research.google.com/github/roaatamimi/DeepFakeDetection.ipynb/blob/main/DeepFakeDetection.ipynb\" target=\"_parent\"><img src=\"https://colab.research.google.com/assets/colab-badge.svg\" alt=\"Open In Colab\"/></a>"
      ]
    },
    {
      "cell_type": "markdown",
      "metadata": {
        "id": "lHc53rpY1VlI"
      },
      "source": [
        "**Data Preparation**"
      ]
    },
    {
      "cell_type": "code",
      "execution_count": null,
      "metadata": {
        "id": "v6dzfgZW1fQX"
      },
      "outputs": [],
      "source": [
        "!pip install -q kaggle"
      ]
    },
    {
      "cell_type": "code",
      "execution_count": null,
      "metadata": {
        "colab": {
          "base_uri": "https://localhost:8080/",
          "height": 38
        },
        "id": "QNuWYM4e2C1p",
        "outputId": "5c722210-ff6a-42ab-8ffd-addfca273b16"
      },
      "outputs": [
        {
          "output_type": "display_data",
          "data": {
            "text/plain": [
              "<IPython.core.display.HTML object>"
            ],
            "text/html": [
              "\n",
              "     <input type=\"file\" id=\"files-4f6afc33-3add-4647-a5b1-9b468e5fd22e\" name=\"files[]\" multiple disabled\n",
              "        style=\"border:none\" />\n",
              "     <output id=\"result-4f6afc33-3add-4647-a5b1-9b468e5fd22e\">\n",
              "      Upload widget is only available when the cell has been executed in the\n",
              "      current browser session. Please rerun this cell to enable.\n",
              "      </output>\n",
              "      <script>// Copyright 2017 Google LLC\n",
              "//\n",
              "// Licensed under the Apache License, Version 2.0 (the \"License\");\n",
              "// you may not use this file except in compliance with the License.\n",
              "// You may obtain a copy of the License at\n",
              "//\n",
              "//      http://www.apache.org/licenses/LICENSE-2.0\n",
              "//\n",
              "// Unless required by applicable law or agreed to in writing, software\n",
              "// distributed under the License is distributed on an \"AS IS\" BASIS,\n",
              "// WITHOUT WARRANTIES OR CONDITIONS OF ANY KIND, either express or implied.\n",
              "// See the License for the specific language governing permissions and\n",
              "// limitations under the License.\n",
              "\n",
              "/**\n",
              " * @fileoverview Helpers for google.colab Python module.\n",
              " */\n",
              "(function(scope) {\n",
              "function span(text, styleAttributes = {}) {\n",
              "  const element = document.createElement('span');\n",
              "  element.textContent = text;\n",
              "  for (const key of Object.keys(styleAttributes)) {\n",
              "    element.style[key] = styleAttributes[key];\n",
              "  }\n",
              "  return element;\n",
              "}\n",
              "\n",
              "// Max number of bytes which will be uploaded at a time.\n",
              "const MAX_PAYLOAD_SIZE = 100 * 1024;\n",
              "\n",
              "function _uploadFiles(inputId, outputId) {\n",
              "  const steps = uploadFilesStep(inputId, outputId);\n",
              "  const outputElement = document.getElementById(outputId);\n",
              "  // Cache steps on the outputElement to make it available for the next call\n",
              "  // to uploadFilesContinue from Python.\n",
              "  outputElement.steps = steps;\n",
              "\n",
              "  return _uploadFilesContinue(outputId);\n",
              "}\n",
              "\n",
              "// This is roughly an async generator (not supported in the browser yet),\n",
              "// where there are multiple asynchronous steps and the Python side is going\n",
              "// to poll for completion of each step.\n",
              "// This uses a Promise to block the python side on completion of each step,\n",
              "// then passes the result of the previous step as the input to the next step.\n",
              "function _uploadFilesContinue(outputId) {\n",
              "  const outputElement = document.getElementById(outputId);\n",
              "  const steps = outputElement.steps;\n",
              "\n",
              "  const next = steps.next(outputElement.lastPromiseValue);\n",
              "  return Promise.resolve(next.value.promise).then((value) => {\n",
              "    // Cache the last promise value to make it available to the next\n",
              "    // step of the generator.\n",
              "    outputElement.lastPromiseValue = value;\n",
              "    return next.value.response;\n",
              "  });\n",
              "}\n",
              "\n",
              "/**\n",
              " * Generator function which is called between each async step of the upload\n",
              " * process.\n",
              " * @param {string} inputId Element ID of the input file picker element.\n",
              " * @param {string} outputId Element ID of the output display.\n",
              " * @return {!Iterable<!Object>} Iterable of next steps.\n",
              " */\n",
              "function* uploadFilesStep(inputId, outputId) {\n",
              "  const inputElement = document.getElementById(inputId);\n",
              "  inputElement.disabled = false;\n",
              "\n",
              "  const outputElement = document.getElementById(outputId);\n",
              "  outputElement.innerHTML = '';\n",
              "\n",
              "  const pickedPromise = new Promise((resolve) => {\n",
              "    inputElement.addEventListener('change', (e) => {\n",
              "      resolve(e.target.files);\n",
              "    });\n",
              "  });\n",
              "\n",
              "  const cancel = document.createElement('button');\n",
              "  inputElement.parentElement.appendChild(cancel);\n",
              "  cancel.textContent = 'Cancel upload';\n",
              "  const cancelPromise = new Promise((resolve) => {\n",
              "    cancel.onclick = () => {\n",
              "      resolve(null);\n",
              "    };\n",
              "  });\n",
              "\n",
              "  // Wait for the user to pick the files.\n",
              "  const files = yield {\n",
              "    promise: Promise.race([pickedPromise, cancelPromise]),\n",
              "    response: {\n",
              "      action: 'starting',\n",
              "    }\n",
              "  };\n",
              "\n",
              "  cancel.remove();\n",
              "\n",
              "  // Disable the input element since further picks are not allowed.\n",
              "  inputElement.disabled = true;\n",
              "\n",
              "  if (!files) {\n",
              "    return {\n",
              "      response: {\n",
              "        action: 'complete',\n",
              "      }\n",
              "    };\n",
              "  }\n",
              "\n",
              "  for (const file of files) {\n",
              "    const li = document.createElement('li');\n",
              "    li.append(span(file.name, {fontWeight: 'bold'}));\n",
              "    li.append(span(\n",
              "        `(${file.type || 'n/a'}) - ${file.size} bytes, ` +\n",
              "        `last modified: ${\n",
              "            file.lastModifiedDate ? file.lastModifiedDate.toLocaleDateString() :\n",
              "                                    'n/a'} - `));\n",
              "    const percent = span('0% done');\n",
              "    li.appendChild(percent);\n",
              "\n",
              "    outputElement.appendChild(li);\n",
              "\n",
              "    const fileDataPromise = new Promise((resolve) => {\n",
              "      const reader = new FileReader();\n",
              "      reader.onload = (e) => {\n",
              "        resolve(e.target.result);\n",
              "      };\n",
              "      reader.readAsArrayBuffer(file);\n",
              "    });\n",
              "    // Wait for the data to be ready.\n",
              "    let fileData = yield {\n",
              "      promise: fileDataPromise,\n",
              "      response: {\n",
              "        action: 'continue',\n",
              "      }\n",
              "    };\n",
              "\n",
              "    // Use a chunked sending to avoid message size limits. See b/62115660.\n",
              "    let position = 0;\n",
              "    do {\n",
              "      const length = Math.min(fileData.byteLength - position, MAX_PAYLOAD_SIZE);\n",
              "      const chunk = new Uint8Array(fileData, position, length);\n",
              "      position += length;\n",
              "\n",
              "      const base64 = btoa(String.fromCharCode.apply(null, chunk));\n",
              "      yield {\n",
              "        response: {\n",
              "          action: 'append',\n",
              "          file: file.name,\n",
              "          data: base64,\n",
              "        },\n",
              "      };\n",
              "\n",
              "      let percentDone = fileData.byteLength === 0 ?\n",
              "          100 :\n",
              "          Math.round((position / fileData.byteLength) * 100);\n",
              "      percent.textContent = `${percentDone}% done`;\n",
              "\n",
              "    } while (position < fileData.byteLength);\n",
              "  }\n",
              "\n",
              "  // All done.\n",
              "  yield {\n",
              "    response: {\n",
              "      action: 'complete',\n",
              "    }\n",
              "  };\n",
              "}\n",
              "\n",
              "scope.google = scope.google || {};\n",
              "scope.google.colab = scope.google.colab || {};\n",
              "scope.google.colab._files = {\n",
              "  _uploadFiles,\n",
              "  _uploadFilesContinue,\n",
              "};\n",
              "})(self);\n",
              "</script> "
            ]
          },
          "metadata": {}
        }
      ],
      "source": [
        "from google.colab import files\n",
        "files.upload()"
      ]
    },
    {
      "cell_type": "code",
      "execution_count": null,
      "metadata": {
        "id": "n3H391f42OW3"
      },
      "outputs": [],
      "source": [
        "! mkdir ~/.kaggle\n",
        "! cp kaggle.json ~/.kaggle/\n",
        "! chmod 600 ~/.kaggle/kaggle.json\n",
        "! kaggle datasets list"
      ]
    },
    {
      "cell_type": "code",
      "execution_count": null,
      "metadata": {
        "id": "Bmqf7CCe2syn"
      },
      "outputs": [],
      "source": [
        "!kaggle datasets download -d manjilkarki/deepfake-and-real-images --unzip"
      ]
    },
    {
      "cell_type": "markdown",
      "metadata": {
        "id": "WGTI6mft3Mx0"
      },
      "source": [
        "**EDA**"
      ]
    },
    {
      "cell_type": "code",
      "execution_count": null,
      "metadata": {
        "id": "oTo4sZZ740sG"
      },
      "outputs": [],
      "source": [
        "import os\n",
        "import matplotlib.pyplot as plt\n",
        "import numpy as np\n",
        "import matplotlib.image as mpimg\n",
        "import random\n",
        "import tensorflow as tf\n",
        "import cv2"
      ]
    },
    {
      "cell_type": "code",
      "execution_count": null,
      "metadata": {
        "id": "LTByibZg4JRP"
      },
      "outputs": [],
      "source": [
        "train_path = '/content/Dataset/Train'\n",
        "test_path = '/content/Dataset/Test'\n",
        "valid_path = '/content/Dataset/Validation'\n",
        "print(len(os.listdir(train_path+'/Fake')), len(os.listdir(train_path+'/Real')))\n",
        "print(len(os.listdir(test_path+'/Fake')), len(os.listdir(test_path+'/Real')))\n",
        "print(len(os.listdir(valid_path+'/Fake')), len(os.listdir(valid_path+'/Real')))"
      ]
    },
    {
      "cell_type": "code",
      "execution_count": null,
      "metadata": {
        "id": "KDSHVuOB5scd"
      },
      "outputs": [],
      "source": [
        "fig = plt.figure(figsize=(10, 7))\n",
        "random_images = random.sample(os.listdir(train_path+\"/Fake\"), 5)\n",
        "for i in range(5):\n",
        "  fig.add_subplot(1, 5, i+1)\n",
        "  img = mpimg.imread(train_path+'/Fake/'+ random_images[i])\n",
        "  plt.imshow(img)\n",
        "  plt.axis('off')"
      ]
    },
    {
      "cell_type": "code",
      "execution_count": null,
      "metadata": {
        "id": "uMRarz4R6Z5m"
      },
      "outputs": [],
      "source": [
        "fig = plt.figure(figsize=(10, 7))\n",
        "random_images = random.sample(os.listdir(train_path+\"/Real\"), 5)\n",
        "for i in range(5):\n",
        "  fig.add_subplot(1, 5, i+1)\n",
        "  img = mpimg.imread(train_path+'/Real/'+ random_images[i])\n",
        "  plt.imshow(img)\n",
        "  plt.axis('off')"
      ]
    },
    {
      "cell_type": "code",
      "execution_count": null,
      "metadata": {
        "id": "JNnFymF17pxn"
      },
      "outputs": [],
      "source": [
        "X_train = []\n",
        "X_test = []\n",
        "X_val = []\n",
        "y_train =[]\n",
        "y_test = []\n",
        "y_val = []"
      ]
    },
    {
      "cell_type": "code",
      "execution_count": null,
      "metadata": {
        "id": "0st5aHoJpwGT"
      },
      "outputs": [],
      "source": [
        "for file_name in os.listdir(train_path+'/Fake'):\n",
        "    if file_name.endswith(\".jpg\"):\n",
        "        img = cv2.imread(os.path.join(train_path+'/Fake', file_name), cv2.IMREAD_GRAYSCALE)\n",
        "        img = cv2.resize(img, (28,28))\n",
        "        img = img.astype(\"float32\") / 255.0\n",
        "        X_train.append(img)\n",
        "        y_train.append(0)"
      ]
    },
    {
      "cell_type": "code",
      "execution_count": null,
      "metadata": {
        "id": "NVPLVbLR8Ado"
      },
      "outputs": [],
      "source": [
        "for file_name in os.listdir(train_path+'/Real'):\n",
        "    if file_name.endswith(\".jpg\"):\n",
        "        img = cv2.imread(os.path.join(train_path+'/Real', file_name), cv2.IMREAD_GRAYSCALE)\n",
        "        img = cv2.resize(img,(28,28))\n",
        "        img = img.astype(\"float32\") / 255.0\n",
        "        X_train.append(img)\n",
        "        y_train.append(0)\n"
      ]
    },
    {
      "cell_type": "code",
      "execution_count": null,
      "metadata": {
        "id": "hYT2JhG4ltfP"
      },
      "outputs": [],
      "source": [
        "for file_name in os.listdir(test_path+'/Fake'):\n",
        "    if file_name.endswith(\".jpg\"):\n",
        "        img = cv2.imread(os.path.join(test_path+'/Fake', file_name), cv2.IMREAD_GRAYSCALE)\n",
        "        img = cv2.resize(img,(28,28))\n",
        "        img = img.astype(\"float32\") / 255.0\n",
        "        X_test.append(img)\n",
        "        y_test.append(1)"
      ]
    },
    {
      "cell_type": "code",
      "execution_count": null,
      "metadata": {
        "id": "60C6BFiJqBTI"
      },
      "outputs": [],
      "source": [
        "for file_name in os.listdir(test_path+'/Real'):\n",
        "    if file_name.endswith(\".jpg\"):\n",
        "        img = cv2.imread(os.path.join(test_path+'/Real', file_name), cv2.IMREAD_GRAYSCALE)\n",
        "        img = cv2.resize(img,(28,28))\n",
        "        img = img.astype(\"float32\") / 255.0\n",
        "        X_test.append(img)\n",
        "        y_test.append(0)"
      ]
    },
    {
      "cell_type": "code",
      "execution_count": null,
      "metadata": {
        "id": "8A8rv2lDqJBq"
      },
      "outputs": [],
      "source": [
        "for file_name in os.listdir(valid_path+'/Fake'):\n",
        "    if file_name.endswith(\".jpg\"):\n",
        "        img = cv2.imread(os.path.join(valid_path+'/Fake', file_name), cv2.IMREAD_GRAYSCALE)\n",
        "        img = cv2.resize(img,(28,28))\n",
        "        img = img.astype(\"float32\") / 255.0\n",
        "        X_val.append(img)\n",
        "        y_val.append(1)"
      ]
    },
    {
      "cell_type": "code",
      "execution_count": null,
      "metadata": {
        "id": "XQ49trQjltxX"
      },
      "outputs": [],
      "source": [
        "for file_name in os.listdir(valid_path+'/Real'):\n",
        "    if file_name.endswith(\".jpg\"):\n",
        "        img = cv2.imread(os.path.join(valid_path+'/Real', file_name), cv2.IMREAD_GRAYSCALE)\n",
        "        img = cv2.resize(img,(28,28))\n",
        "        img = img.astype(\"float32\") / 255.0\n",
        "        X_val.append(img)\n",
        "        y_val.append(0)"
      ]
    },
    {
      "cell_type": "code",
      "execution_count": null,
      "metadata": {
        "id": "gksy3M0I_3wr"
      },
      "outputs": [],
      "source": [
        "X_train=np.array(X_train)\n",
        "y_train=np.array(y_train)\n",
        "X_test=np.array(X_test)\n",
        "y_test=np.array(y_test)\n",
        "X_val=np.array(X_val)\n",
        "y_val=np.array(y_val)"
      ]
    },
    {
      "cell_type": "code",
      "execution_count": null,
      "metadata": {
        "id": "3EPnHqNI_5no"
      },
      "outputs": [],
      "source": [
        "m = X_train.shape[0]\n",
        "permutation = np.random.permutation(m)\n",
        "\n",
        "m1 = X_test.shape[0]\n",
        "permutation1 = np.random.permutation(m1)\n",
        "\n",
        "m2 = X_val.shape[0]\n",
        "permutation2 = np.random.permutation(m2)\n",
        "\n",
        "# Shuffle in the same order\n",
        "X_train = X_train[permutation]\n",
        "y_train = y_train[permutation]\n",
        "X_test = X_test[permutation1]\n",
        "y_test = y_test[permutation1]\n",
        "X_val = X_val[permutation2]\n",
        "y_val = y_val[permutation2]"
      ]
    },
    {
      "cell_type": "markdown",
      "metadata": {
        "id": "ayck4wAWtIWB"
      },
      "source": [
        "**CNN model for Feature Extraction**"
      ]
    },
    {
      "cell_type": "code",
      "execution_count": null,
      "metadata": {
        "id": "8wQfXGILsqqu"
      },
      "outputs": [],
      "source": [
        "from tensorflow.keras.models import Sequential\n",
        "from tensorflow.keras.layers import Dense, Conv2D, Flatten, Dropout, MaxPooling2D\n",
        "\n",
        "model = Sequential()\n",
        "model.add(Conv2D(filters = 32, kernel_size = (3,3), activation ='relu', input_shape=(28,28,1), padding='same'))\n",
        "model.add(MaxPooling2D(3,3))\n",
        "model.add(Conv2D(filters=64,kernel_size=(3,3),activation='relu', padding='same'))\n",
        "model.add(MaxPooling2D(3,3))\n",
        "model.add(Conv2D(filters=32,kernel_size=(3,3),activation='relu', padding='same'))\n",
        "model.add(MaxPooling2D(3,3))\n",
        "model.add(Flatten())\n",
        "model.add(Dense(128, activation='relu'))\n",
        "model.add(Dropout(0.2))\n",
        "model.add(Dense(64, activation='relu'))\n",
        "model.add(Dropout(0.2))\n",
        "model.add(Dense(1, activation='sigmoid'))\n",
        "model.summary()"
      ]
    },
    {
      "cell_type": "code",
      "execution_count": null,
      "metadata": {
        "id": "S48kIaUowP5W"
      },
      "outputs": [],
      "source": [
        "model.compile(optimizer='adam', loss='binary_crossentropy', metrics=['accuracy'])"
      ]
    },
    {
      "cell_type": "code",
      "execution_count": null,
      "metadata": {
        "id": "LOZWmBHbwkes"
      },
      "outputs": [],
      "source": [
        "hist=model.fit(X_train,y_train, validation_data=(X_val, y_val), epochs=25, batch_size=16)"
      ]
    },
    {
      "cell_type": "code",
      "execution_count": null,
      "metadata": {
        "colab": {
          "background_save": true
        },
        "id": "H1yoD4iS0O52"
      },
      "outputs": [],
      "source": [
        "import pandas as pd\n",
        "\n",
        "hist=pd.DataFrame(hist.history)\n",
        "hist"
      ]
    },
    {
      "cell_type": "code",
      "execution_count": null,
      "metadata": {
        "colab": {
          "background_save": true
        },
        "id": "FWbBhffQ0Thn"
      },
      "outputs": [],
      "source": [
        "plt.plot(hist['accuracy'],label='Accuracy Train')\n",
        "plt.plot(hist['val_accuracy'],label='Accuracy Val')\n",
        "plt.title('Training Accuracy & Validation Accuracy')\n",
        "plt.legend()"
      ]
    },
    {
      "cell_type": "code",
      "execution_count": null,
      "metadata": {
        "colab": {
          "background_save": true
        },
        "id": "9TBeAnBc08mX"
      },
      "outputs": [],
      "source": [
        "scores = model.evaluate(X_test, y_test)\n",
        "\n",
        "print(\"%s: %.2f%%\" % (model.metrics_names[1], scores[1]*100))"
      ]
    },
    {
      "cell_type": "code",
      "execution_count": null,
      "metadata": {
        "colab": {
          "background_save": true
        },
        "id": "zk3L7AXl1BiG"
      },
      "outputs": [],
      "source": [
        "from sklearn.metrics import confusion_matrix\n",
        "import seaborn as sns\n",
        "\n",
        "predictions = model.predict(X_test)\n",
        "y_pred=[1 if prediction > 0.5 else 0 for prediction in predictions]\n",
        "CM = confusion_matrix(y_test, y_pred)\n",
        "cmn = CM.astype('float') / CM.sum(axis=1)[:, np.newaxis]\n",
        "sns.heatmap(cmn, center = True, annot=True, cbar=False)"
      ]
    },
    {
      "cell_type": "markdown",
      "metadata": {
        "id": "p93NGHb6jDw0"
      },
      "source": [
        "**EfficientNet**"
      ]
    },
    {
      "cell_type": "code",
      "execution_count": null,
      "metadata": {
        "colab": {
          "background_save": true
        },
        "id": "jBRjQnLTjOjA"
      },
      "outputs": [],
      "source": [
        "from tensorflow.keras.applications import EfficientNetB6\n"
      ]
    },
    {
      "cell_type": "markdown",
      "source": [
        "**ResNet**"
      ],
      "metadata": {
        "id": "BptH66Yymnpo"
      }
    },
    {
      "cell_type": "code",
      "source": [
        "from tensorflow.keras.applications import ResNet50V2\n",
        "from tensorflow.keras.layers import Dense, GlobalAveragePooling2D\n",
        "# Load the pre-trained ResNet50V2 model\n",
        "base_model = ResNet50V2(include_top=False, weights='imagenet', input_shape=(224, 224, 3))\n",
        "\n",
        "# Freeze the pre-trained layers\n",
        "for layer in base_model.layers:\n",
        "    layer.trainable = False\n",
        "\n",
        "# Add a new classification layer\n",
        "x = base_model.output\n",
        "x = GlobalAveragePooling2D()(x)\n",
        "x = Dense(1024, activation='relu')(x)\n",
        "predictions = Dense(1, activation='sigmoid')(x)\n",
        "\n",
        "# Build the new model\n",
        "model = tf.keras.models.Model(inputs=base_model.input, outputs=predictions)\n",
        "\n",
        "# Compile the model\n",
        "model.compile(optimizer='adam', loss='binary_crossentropy', metrics=['accuracy'])"
      ],
      "metadata": {
        "id": "_-Ba0wi8mmgQ"
      },
      "execution_count": null,
      "outputs": []
    }
  ],
  "metadata": {
    "accelerator": "GPU",
    "colab": {
      "provenance": [],
      "include_colab_link": true
    },
    "gpuClass": "standard",
    "kernelspec": {
      "display_name": "Python 3",
      "name": "python3"
    },
    "language_info": {
      "name": "python"
    }
  },
  "nbformat": 4,
  "nbformat_minor": 0
}